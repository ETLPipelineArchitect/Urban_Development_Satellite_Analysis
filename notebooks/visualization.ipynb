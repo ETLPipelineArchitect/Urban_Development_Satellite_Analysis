{
    "cells": [
        {
            "cell_type": "markdown",
            "metadata": {},
            "source": [
                "# Data Visualization\n",
                "Visualizing the results from the data analysis."
            ]
        },
        {
            "cell_type": "code",
            "execution_count": 1,
            "metadata": {},
            "outputs": [],
            "source": [
                "import pandas as pd\n",
                "import matplotlib.pyplot as plt\n",
                "\n",
                "# Load analysis results\n",
                "analysis_df = pd.read_parquet('s3://your-bucket-name/satellite_images/output/cluster_analysis.parquet')\n",
                "\n",
                "# Plot cluster counts\n",
                "plt.figure(figsize=(10, 6))\n",
                "plt.bar(analysis_df['prediction'], analysis_df['count'])\n",
                "plt.title('Number of Images in Each Cluster')\n",
                "plt.xlabel('Cluster')\n",
                "plt.ylabel('Count')\n",
                "plt.show()"
            ]
        }
    ],
    "metadata": {
        "kernelspec": {
            "display_name": "Python 3",
            "language": "python",
            "name": "python3"
        },
        "language_info": {
            "name": "python",
            "version": "3.8.5",
            "mimetype": "text/x-python",
            "codemirror_mode": {
                "name": "ipython",
                "version": 3
            },
            "pygments_lexer": "ipython3",
            "nbconvert_exporter": "python",
            "file_extension": ".py"
        }
    },
    "nbformat": 4,
    "nbformat_minor": 5
}